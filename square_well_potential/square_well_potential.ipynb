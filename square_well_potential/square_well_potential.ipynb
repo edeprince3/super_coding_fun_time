{
 "cells": [
  {
   "cell_type": "markdown",
   "id": "cd4a54f1",
   "metadata": {},
   "source": [
    "# A particle in a one-dimensional finite square well potential\n",
    "\n",
    "This notebook evaluates the allowed energies and wavefunctions for bound states of a particle confined to a finite square well potential.\n",
    "\n",
    "## Introduction\n",
    "\n",
    "Consider a particle of mass, $m$, that is moving in the $x$-direction and experiences a finite square potential of width, $L$, and height, $V_0$. We will assume that the energy of this particle, $E$, is less than $V_0$. Graphically, this potential has the form:"
   ]
  },
  {
   "cell_type": "code",
   "execution_count": 1,
   "id": "d9b151cc",
   "metadata": {},
   "outputs": [
    {
     "data": {
      "text/html": [
       "<img src=\"https://raw.githubusercontent.com/edeprince3/super_coding_fun_time/main/square_well_potential/square_well_potential.png\"/>"
      ],
      "text/plain": [
       "<IPython.core.display.Image object>"
      ]
     },
     "execution_count": 1,
     "metadata": {},
     "output_type": "execute_result"
    }
   ],
   "source": [
    "import numpy as np\n",
    "from IPython.display import Image\n",
    "Image(url = \"https://raw.githubusercontent.com/edeprince3/super_coding_fun_time/main/square_well_potential/square_well_potential.png\")"
   ]
  },
  {
   "cell_type": "markdown",
   "id": "523ddd30",
   "metadata": {},
   "source": [
    "Mathematically, we define this potential in a piecewise way as\n",
    "\n",
    "### Region I: \n",
    "\n",
    "$V(x) = V_0$, $x < 0$\n",
    "\n",
    "### Region II: \n",
    "\n",
    "$V(x) = 0$, $0 \\le x \\le L$\n",
    "\n",
    "### Region III: \n",
    "\n",
    "$V(x) = V_0$, $x > L$\n"
   ]
  },
  {
   "cell_type": "markdown",
   "id": "b8702d1e",
   "metadata": {},
   "source": [
    "# Part 1: Solving the Schrodinger equation directly"
   ]
  },
  {
   "cell_type": "markdown",
   "id": "67be07c0",
   "metadata": {},
   "source": [
    "## Wavefunctions\n",
    "\n",
    "Wavefunctions that satisfy the time-independent Schrodinger equation will also have a piecewise form, and we can determine the wavefunction by solving the Schrodinger equation in each region. We have\n",
    "\n",
    "### Region I: \n",
    "\n",
    "$(\\frac{-\\hbar^2}{2m}\\frac{d^2}{dx^2} + V_0) \\psi_I(x) = E \\psi_I(x)$\n",
    "\n",
    "which has solutions of the form\n",
    "\n",
    "$\\psi_I(x) = C~{\\rm exp}(\\alpha x) + D~{\\rm exp}(-\\alpha x)$, $x < 0$\n",
    "\n",
    "### Region II: \n",
    "\n",
    "$\\frac{-\\hbar^2}{2m}\\frac{d^2}{dx^2} \\psi_{II}(x) = E \\psi_{II}(x)$\n",
    "\n",
    "which has solutions of the form\n",
    "\n",
    "$\\psi_{II}(x) = A~{\\rm cos}(\\beta x) + B~{\\rm sin}(\\beta x)$, $0 \\le x \\le L$\n",
    "\n",
    "and\n",
    "\n",
    "### Region III: \n",
    "\n",
    "$(\\frac{-\\hbar^2}{2m}\\frac{d^2}{dx^2} + V_0) \\psi_{III}(x) = E \\psi_{III}(x)$\n",
    "\n",
    "which has solutions of the form\n",
    "\n",
    "$\\psi_{III}(x) = F~{\\rm exp}(\\alpha x) + G~{\\rm exp}(-\\alpha x)$, $x > l$\n",
    "\n",
    "Above, $\\alpha$ and $\\beta$ are real numbers, defined by\n",
    "\n",
    "$\\alpha = ( 2 m [V_0 - E] / \\hbar^2)^{1/2}$\n",
    "\n",
    "$\\beta = (2 m E / \\hbar^2)^{1/2}$"
   ]
  },
  {
   "cell_type": "markdown",
   "id": "3f93b122",
   "metadata": {},
   "source": [
    "## Boundary conditions\n",
    "\n",
    "If we consider that the wave function should be finite in the limit that $x$ tends to $\\pm \\infty$, then we immediately find that the coefficients $D$ and $F$ must be zero.\n",
    "\n",
    "As for the other unknown coefficients, we can determine these through the application of various boundary conditions:\n",
    "\n",
    "1. The wavefunction should be continuous between regions I and II (at $x=0$). This condition leads us to \n",
    "\n",
    "    $C = A$\n",
    "    \n",
    "\n",
    "2. The derivative of the wavefunction should be continuous between regions I and II (at $x=0$). This condition leads us to \n",
    "\n",
    "    $B = [(V_0 - E)^{1/2} / (E)^{1/2}] A$\n",
    "    \n",
    "\n",
    "3. The wavefunction should be continuous between regions II and III (at $x=L$). This condition leads us to \n",
    "\n",
    "    $G = A ~[ {\\rm cos}(\\beta L) + \\alpha~ / \\beta ~{\\rm sin}(\\beta L) ] ~{\\rm exp}(\\alpha L)$\n",
    "    \n",
    "\n",
    "4. The derivative of the wavefunction should be continuous between regions II and III (at $x=L$). This condition leads us to a trancendental equation for the energy: \n",
    "\n",
    "    ${\\rm tan}[(2mE/\\hbar^2)^{1/2} L] = 2 (V_0-E)(E)^{1/2}/(2 E-V_0)$\n",
    "    \n",
    "\n",
    "Lastly, the coefficent A can be determined by normalization.\n",
    "\n",
    "\n"
   ]
  },
  {
   "cell_type": "markdown",
   "id": "a8b4ff10",
   "metadata": {},
   "source": [
    "## Procedure for visualizing the allowable wavefunctions\n",
    "\n",
    "In order to determine the allowable energies and corresponding wavefunctions for the particle in a finite square well potential, we will follow the following steps:\n",
    "\n",
    "1. We should specify parameters $m$, $L$, and $V_0$ that define our problem. \n",
    "\n",
    "\n",
    "2. We should plot the trancendental equation for the energy to (a) determine how many bound states we have and (b) to obtain reasonable guesses for these energies.\n",
    "\n",
    "\n",
    "3. We should numerically solve the trancendental equation using some functionality in the scipy package.\n",
    "\n",
    "\n",
    "4. Once we have the allowable energies, we can evaluate the corresponding wavefunction parameters defined above.\n",
    "\n",
    "\n",
    "5. Given the wave function parameters, we can visualize the wavefunction or its square modulus."
   ]
  },
  {
   "cell_type": "code",
   "execution_count": 2,
   "id": "c5f71df9",
   "metadata": {},
   "outputs": [],
   "source": [
    "# step 1: specify the parameters, in atomic units (hbar = 1):\n",
    "\n",
    "m = 1.0\n",
    "V0 = 10.0\n",
    "L = 1.0"
   ]
  },
  {
   "cell_type": "code",
   "execution_count": 3,
   "id": "c308c73f",
   "metadata": {},
   "outputs": [
    {
     "name": "stderr",
     "output_type": "stream",
     "text": [
      "/var/folders/p7/jsnw6xvd0bx93ym71r58v0nm0000gn/T/ipykernel_55482/3949175432.py:17: RuntimeWarning: divide by zero encountered in double_scalars\n",
      "  rhs.append( 2.0 * np.sqrt(V0 - E[i]) * np.sqrt(E[i]) / ( 2.0 * E[i] - V0) )\n"
     ]
    },
    {
     "data": {
      "image/png": "[encoded data removed]",
      "text/plain": [
       "<Figure size 640x480 with 1 Axes>"
      ]
     },
     "metadata": {},
     "output_type": "display_data"
    }
   ],
   "source": [
    "# step 2: plot the trancendental equation for the energy\n",
    "\n",
    "import numpy as np\n",
    "import matplotlib.pyplot as plt\n",
    "\n",
    "# energies should be less than V0 (we're looking at bound states)\n",
    "dE = 0.01\n",
    "E = np.arange(0, V0, dE)\n",
    "\n",
    "# LHS = tan[sqrt(2mE/hbar^2)*L]\n",
    "# RHS = 2*sqrt(V0-E)sqrt(E)/(2*E-V0)\n",
    "lhs = []\n",
    "rhs = []\n",
    "\n",
    "for i in range(len(E)):\n",
    "    lhs.append( np.tan(np.sqrt(2.0 * m * E[i]) * L) )\n",
    "    rhs.append( 2.0 * np.sqrt(V0 - E[i]) * np.sqrt(E[i]) / ( 2.0 * E[i] - V0) )\n",
    "\n",
    "plt.plot(E, lhs) \n",
    "plt.plot(E, rhs)\n",
    "plt.ylim(-10,10)\n",
    "ax = plt.gca()\n",
    "\n",
    "plt.show()"
   ]
  },
  {
   "cell_type": "markdown",
   "id": "ad2df08c",
   "metadata": {},
   "source": [
    "From above, we can see that there are two allowable energies (points at which the blue and orange curves cross, not counting the divergence in the blue curve). These energies look like they are roughly 2.5 and 8.5 (atomic units). We now need to numerically solve the trancendental equation. We're going to use the function:\n",
    "\n",
    "    optimize.fsolve\n",
    "    \n",
    "from the scipy package for this purpose. We will have to pass some objective function $f(E) = 0$ for which this function will find the optimal $E$ value(s)."
   ]
  },
  {
   "cell_type": "code",
   "execution_count": 4,
   "id": "312304d0",
   "metadata": {},
   "outputs": [],
   "source": [
    "def allowable_energies(E, *data):\n",
    "    \n",
    "    \"\"\"\n",
    "    \n",
    "    function defining allowable energies:\n",
    "    \n",
    "    tan[sqrt(2mE/hbar^2)*L] - 2*sqrt(V0-E)sqrt(E)/(2*E-V0) = 0\n",
    "    \n",
    "    :param E: the energy\n",
    "    :param data: m, V0, and L\n",
    "    \n",
    "    :return value: the function value\n",
    "    \n",
    "    \"\"\"\n",
    "    \n",
    "    m, V0, L = data\n",
    "    \n",
    "    return np.tan(np.sqrt(2.0 * m * E) * L) - 2.0 * np.sqrt(V0 - E) * np.sqrt(E) / ( 2.0 * E - V0)"
   ]
  },
  {
   "cell_type": "markdown",
   "id": "6253bf54",
   "metadata": {},
   "source": [
    "Now, we're ready to solve for the allowable energies."
   ]
  },
  {
   "cell_type": "code",
   "execution_count": 5,
   "id": "b84a6ee8",
   "metadata": {},
   "outputs": [
    {
     "name": "stdout",
     "output_type": "stream",
     "text": [
      "[2.29499075 8.13714776]\n"
     ]
    }
   ],
   "source": [
    "# step 3: solve for allowable energies, with initial guess informed by plot above\n",
    "\n",
    "from scipy import optimize\n",
    "E = optimize.fsolve(func = allowable_energies, x0 = [2.5, 8.0], args = (m, V0, L) )\n",
    "\n",
    "print(E)"
   ]
  },
  {
   "cell_type": "markdown",
   "id": "ea83d74b",
   "metadata": {},
   "source": [
    "Given the allowable energies, we can calculate the corresponding wavefunction parameters. Since all of the parameters can be expressed in terms of $A$, we start with the choice $A = 1$, but we'll rescale all of the coefficients such that the wavefunction is normalized. "
   ]
  },
  {
   "cell_type": "code",
   "execution_count": 6,
   "id": "e554c756",
   "metadata": {},
   "outputs": [],
   "source": [
    "# step 4. evaluate wavefunction parameters for each of the allowable energy levels\n",
    "\n",
    "alpha = np.sqrt( 2.0 * m * (V0 - E) )\n",
    "beta = np.sqrt( 2.0 * m * E )\n",
    "    \n",
    "A = 1 # we'll normalize, but start with A = 1\n",
    "C = A\n",
    "B = np.sqrt(V0 - E) / np.sqrt(E) * A\n",
    "G = A * ( np.cos(beta * L) + alpha / beta * np.sin(beta * L) ) * np.exp(alpha * L)"
   ]
  },
  {
   "cell_type": "markdown",
   "id": "4d179f6c",
   "metadata": {},
   "source": [
    "Now, we can scale the coefficients ($A$, $B$, $C$, and $G$) such that the wavefunction is normalized, i.e., such that\n",
    "\n",
    "$\\int_{-\\infty}^{\\infty} |\\psi(x)|^2 dx = 1$\n",
    "\n",
    "To normalize the wave function, we should scale $\\psi(x)$ such that\n",
    "\n",
    "$\\psi(x) \\to \\psi(x) / \\left ( \\int_{-\\infty}^{\\infty} |\\psi(x)|^2 dx \\right )^{1/2}$\n",
    "\n",
    "and will need to evaluate the integral in a piecewise manner, as\n",
    "\n",
    "$\\int_{-\\infty}^{\\infty} |\\psi(x)|^2 dx = \\int_{-\\infty}^{0} |\\psi_I(x)|^2 dx + \\int_{0}^{L} |\\psi(x)_{II}|^2 dx + \\int_{L}^{\\infty} |\\psi(x)_{III}|^2 dx$\n",
    "\n",
    "Each of these integrals can be evaluated analytically as\n",
    "\n",
    "$\\int_{-\\infty}^{0} |\\psi_I(x)|^2 dx = |A|^2 / ( 2 \\alpha)$\n",
    "\n",
    "$\\int_{0}^{L} |\\psi(x)_{II}|^2 dx = (2 \\beta L (A^2 + B^2) + (A - B) (A + B) {\\rm sin}(2 \\beta L) - 2 A B {\\rm cos}(2 \\beta L) + 2 A B)/(4 \\beta)$\n",
    "\n",
    "and\n",
    "\n",
    "$\\int_{L}^{\\infty} |\\psi(x)_{III}|^2 dx = {\\rm exp}(-2 \\alpha L) / (2 \\alpha)$\n"
   ]
  },
  {
   "cell_type": "code",
   "execution_count": 7,
   "id": "a5361431",
   "metadata": {},
   "outputs": [],
   "source": [
    "# step 4 continued. normalize the wave function\n",
    "    \n",
    "nrm  = A*A / (2.0 * alpha) \n",
    "nrm += (2 * beta * L * (A**2 + B**2) + (A - B)*(A + B)*np.sin(2.0 * beta * L) - 2.0 * A * B * np.cos(2 * beta * L) + 2.0 * A * B)/(4.0 * beta)\n",
    "nrm += G*G * np.exp(-2.0 * alpha * L) / (2.0 * alpha)\n",
    "    \n",
    "nrm = 1.0 / np.sqrt(nrm)\n",
    "    \n",
    "A *= nrm\n",
    "B *= nrm\n",
    "C *= nrm\n",
    "G *= nrm"
   ]
  },
  {
   "cell_type": "code",
   "execution_count": 8,
   "id": "1e161b65",
   "metadata": {},
   "outputs": [
    {
     "data": {
      "image/png": "[encoded data removed]",
      "text/plain": [
       "<Figure size 640x480 with 1 Axes>"
      ]
     },
     "metadata": {},
     "output_type": "display_data"
    }
   ],
   "source": [
    "# step 5. plot the wavefunction (and the shape of the potential)\n",
    "\n",
    "dx = 0.01\n",
    "left = np.arange(-1, 0, dx)\n",
    "inside = np.arange(0, L + dx, dx)\n",
    "right = np.arange(L+dx, 2 + dx, dx)\n",
    "\n",
    "V = []\n",
    "psi = []\n",
    "psi2 = []\n",
    "x = []\n",
    "\n",
    "# psi(x) = C exp(alpha x), x < 0\n",
    "for i in range(len(left)):\n",
    "    V.append(1.0)\n",
    "    x.append(left[i])\n",
    "    val = C * np.exp(alpha * left[i])\n",
    "    psi.append(val)\n",
    "    psi2.append(val*val)\n",
    "\n",
    "# psi(x) = A cos(beta x) + B sin(beta x), 0 < x < L\n",
    "for i in range(len(inside)):\n",
    "    V.append(0.0)\n",
    "    x.append(inside[i])\n",
    "    val = A * np.cos(beta * inside[i]) + B * np.sin(beta * inside[i]) \n",
    "    psi.append(val)\n",
    "    psi2.append(val*val)\n",
    "    \n",
    "# psi(x) = G exp(-alpha x), x > L\n",
    "for i in range(len(right)):\n",
    "    V.append(1.0)\n",
    "    x.append(right[i])\n",
    "    val = G * np.exp(-alpha * right[i])\n",
    "    psi.append(val)\n",
    "    psi2.append(val*val)\n",
    "\n",
    "plt.plot(x, V)\n",
    "plt.plot(x, psi) \n",
    "ax = plt.gca()\n",
    "\n",
    "plt.show()"
   ]
  },
  {
   "cell_type": "markdown",
   "id": "162f6ed5",
   "metadata": {},
   "source": [
    "## Now what?\n",
    "\n",
    "Now, you should re-run this notebook with different values for the mass ($m$), the width of the well ($L$), and the height of the potential outside of the well ($V_0$). Ask yourself the following questions:\n",
    "\n",
    "1. Does increasing $V_0$ increase or decrease the number of bound states?\n",
    "\n",
    "\n",
    "2. Does increasing $L$ increase or decrease the number of bound states?\n",
    "\n",
    "\n",
    "3. Does increasing $m$ increase or decrease the number of bound states?\n",
    "\n",
    "\n",
    "4. For a given $m$, $L$, and $V_0$, which bound states have the highest / lowest tunneling probability (the probability of finding the particle outside of the well)? Can you rationalize this result?\n",
    "\n",
    "\n",
    "5. Can the number of bound states ever be zero, for certain combinations of $m$, $L$, and $V_0$?\n"
   ]
  },
  {
   "cell_type": "markdown",
   "id": "300b1a8d",
   "metadata": {},
   "source": [
    "# Part 2: Solving the Schrodinger equation variationally"
   ]
  },
  {
   "cell_type": "markdown",
   "id": "13f02f15",
   "metadata": {},
   "source": [
    "In this part, we solve the Schrodinger equation variationally. We first define a set of basis functions, $\\{f_i\\}$, with which we will expand our trial function:\n",
    "\n",
    "$\\vert \\phi \\rangle = \\sum_i c_i \\vert f_i \\rangle $\n",
    "\n",
    "Now, we make the variational integral\n",
    "\n",
    "$W = \\frac{ \\langle \\phi \\vert \\hat{H} \\vert \\phi \\rangle }{\\langle \\phi \\vert \\phi \\rangle} $\n",
    "\n",
    "stationary with respect to variations in the expansion coefficients, $\\{c_i\\}$, <i>i.e.</i>, \n",
    "\n",
    "$\\frac{\\partial W}{\\partial c_i} = 0$\n",
    "\n",
    "This stationary condition leads to a linear system of equations\n",
    "\n",
    "$\\forall i: \\sum_j (H_{ij} - E S_{ij}) c_j = 0,$\n",
    "\n",
    "which is equivalent to the generalized eigenvalue problem\n",
    "\n",
    "$ H c = E cS$\n",
    "\n",
    "Here, the matrix representation of the Hamiltonian is given by\n",
    "\n",
    "$H_{ij} = \\langle f_i \\vert \\hat{H} \\vert f_j \\rangle$\n",
    "\n",
    "and the overlap matrix is defined as\n",
    "\n",
    "$S_{ij} = \\langle f_i \\vert f_j \\rangle$\n",
    "\n",
    "For the finite square well potential problem, we will choose $\\{f_i\\}$ to be particle-in-a-box (<i>infinite</i> square well potential) wave functions, where the box is defined with a length $L' > L$. The reason for this choice is that the wave functions for finite square well potential should spill outside of the box (see above), whereas particle-in-a-box wave functions will go to zero at $L'$."
   ]
  },
  {
   "cell_type": "code",
   "execution_count": 9,
   "id": "d189d191",
   "metadata": {},
   "outputs": [],
   "source": [
    "# PIB box width\n",
    "Lprime = 10 * L\n",
    "\n",
    "# the number of basis functions\n",
    "nbf = 20\n",
    "\n",
    "# left side of box:\n",
    "minx = 0.5 * L - 0.5 * Lprime\n",
    "\n",
    "# right side of box:\n",
    "maxx = 0.5 * L + 0.5 * Lprime\n",
    "\n",
    "dx = 0.01\n",
    "left = np.arange(minx, 0, dx)\n",
    "inside = np.arange(0, L + dx, dx)\n",
    "right = np.arange(L+dx, maxx + dx, dx)\n",
    "\n",
    "# redefine V and wave functions on this interval\n",
    "V = []\n",
    "psi = []\n",
    "psi2 = []\n",
    "x = []\n",
    "Vx = []\n",
    "\n",
    "# psi(x) = C exp(alpha x), x < 0\n",
    "for i in range(len(left)):\n",
    "    V.append(1.0)\n",
    "    Vx.append(V0)\n",
    "    x.append(left[i])\n",
    "    val = C * np.exp(alpha * left[i])\n",
    "    psi.append(val)\n",
    "    psi2.append(val*val)\n",
    "\n",
    "# psi(x) = A cos(beta x) + B sin(beta x), 0 < x < L\n",
    "for i in range(len(inside)):\n",
    "    V.append(0.0)\n",
    "    Vx.append(0.0)\n",
    "    x.append(inside[i])\n",
    "    val = A * np.cos(beta * inside[i]) + B * np.sin(beta * inside[i]) \n",
    "    psi.append(val)\n",
    "    psi2.append(val*val)\n",
    "    \n",
    "# psi(x) = G exp(-alpha x), x > L\n",
    "for i in range(len(right)):\n",
    "    V.append(1.0)\n",
    "    Vx.append(V0)\n",
    "    x.append(right[i])\n",
    "    val = G * np.exp(-alpha * right[i])\n",
    "    psi.append(val)\n",
    "    psi2.append(val*val)\n",
    "    \n",
    "# define basis functions on this interval\n",
    "\n",
    "f = []\n",
    "\n",
    "for n in range (1, nbf+1):\n",
    "    myf = []\n",
    "    \n",
    "    myx = 0.0\n",
    "    for i in range(len(left)):\n",
    "        myf.append(np.sqrt(2.0/Lprime) * np.sin(n * np.pi * myx / Lprime))\n",
    "        myx += dx\n",
    "        \n",
    "    for i in range(len(inside)):\n",
    "        myf.append(np.sqrt(2.0/Lprime) * np.sin(n * np.pi * myx / Lprime))\n",
    "        myx += dx\n",
    "        \n",
    "    for i in range(len(right)):\n",
    "        myf.append(np.sqrt(2.0/Lprime) * np.sin(n * np.pi * myx / Lprime))\n",
    "        myx += dx\n",
    "        \n",
    "    f.append(myf)\n"
   ]
  },
  {
   "cell_type": "markdown",
   "id": "6c4a454d",
   "metadata": {},
   "source": [
    "Having defined our basis functions, we should evaluate the Hamiltonian and overlap matrix elements. We can use numpy's trapz function to perform the necessary integrals."
   ]
  },
  {
   "cell_type": "code",
   "execution_count": 10,
   "id": "ef095f97",
   "metadata": {},
   "outputs": [],
   "source": [
    "H = np.zeros( [nbf, nbf], dtype='float64')\n",
    "S = np.zeros( [nbf, nbf], dtype='float64')\n",
    "\n",
    "f = np.asarray(f)\n",
    "\n",
    "for i in range (0, nbf):\n",
    "    for j in range (0, nbf):\n",
    "        \n",
    "        # kinetic energy term: <fi|T|fj> \n",
    "        # with T|fn> 1/(2m) * n^2pi^2/Lprime^2 sqrt(2/Lprime)|fn>\n",
    "        kinetic = 1.0 / 2.0 * (j+1)**2 * np.pi**2 / Lprime**2 * f[i] * f[j]\n",
    "        \n",
    "        \n",
    "        # potential energy term: <fi|V|fj>\n",
    "        potential = f[i] * np.asarray(Vx) * f[j]       \n",
    "\n",
    "        H[i][j] = np.trapz( kinetic + potential, x = x )\n",
    "        \n",
    "        S[i][j] = np.trapz( f[i] * f[j], x = x)\n",
    "        "
   ]
  },
  {
   "cell_type": "markdown",
   "id": "dc42fcf6",
   "metadata": {},
   "source": [
    "We now can use scipy.linalg.eig to solve the generalized eigenvalue problem\n",
    "\n",
    "$H c = E c S$"
   ]
  },
  {
   "cell_type": "code",
   "execution_count": 11,
   "id": "a1b40beb",
   "metadata": {},
   "outputs": [
    {
     "name": "stdout",
     "output_type": "stream",
     "text": [
      "(2.2981929084823296+0j) (8.30189251312763+0j)\n"
     ]
    }
   ],
   "source": [
    "from scipy import linalg\n",
    "\n",
    "w, c = linalg.eig(H, S)\n",
    "\n",
    "ind = np.argsort(w)\n",
    "w = w[ind]\n",
    "c = c[:,ind]\n",
    "\n",
    "print(w[0], w[1])"
   ]
  },
  {
   "cell_type": "markdown",
   "id": "d7ed60f6",
   "metadata": {},
   "source": [
    "Now, let's visualize the variationally optimized wave functions. We'll need to contract the eigenvectors with the basis functions as \n",
    "\n",
    "$\\phi^{(i)} = \\sum_j c^{(i)}_{j} f_j$\n",
    "\n",
    "which can be achieved using numpy's einsum function."
   ]
  },
  {
   "cell_type": "code",
   "execution_count": 13,
   "id": "91bacfac",
   "metadata": {},
   "outputs": [
    {
     "data": {
      "image/png": "[encoded data removed]",
      "text/plain": [
       "<Figure size 640x480 with 1 Axes>"
      ]
     },
     "metadata": {},
     "output_type": "display_data"
    }
   ],
   "source": [
    "phi = np.einsum('ji,jk->ik', c, f)\n",
    "\n",
    "plt.plot(x, V)\n",
    "plt.plot(x, psi)\n",
    "plt.plot(x, -phi[0])\n",
    "plt.plot(x, -phi[1])\n",
    "ax = plt.gca()\n",
    "\n",
    "plt.show()"
   ]
  },
  {
   "cell_type": "markdown",
   "id": "204955a4",
   "metadata": {},
   "source": [
    "## Now what?\n",
    "\n",
    "Now, you should re-run this part of the notebook with different values for $L'$ and different numbers of basis functions. \n",
    "\n",
    "1. For a fixed basis set size, does increasing $L'$ increase or decrease the quality of your solution? You should calculate both the error in the energy and the error in the probability distribution, $|\\phi|^2$.\n",
    "\n",
    "\n",
    "2. For a fixed $L'$, does increasing the size of the basis increase or decrease the quality of your solution? You should calculate both the error in the energy and the error in the probability distribution, $|\\phi|^2$.\n"
   ]
  },
  {
   "cell_type": "code",
   "execution_count": null,
   "id": "37a18b54",
   "metadata": {},
   "outputs": [],
   "source": []
  }
 ],
 "metadata": {
  "kernelspec": {
   "display_name": "Python 3 (ipykernel)",
   "language": "python",
   "name": "python3"
  },
  "language_info": {
   "codemirror_mode": {
    "name": "ipython",
    "version": 3
   },
   "file_extension": ".py",
   "mimetype": "text/x-python",
   "name": "python",
   "nbconvert_exporter": "python",
   "pygments_lexer": "ipython3",
   "version": "3.9.15"
  }
 },
 "nbformat": 4,
 "nbformat_minor": 5
}
